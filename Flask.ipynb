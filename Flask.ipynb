{
 "cells": [
  {
   "cell_type": "code",
   "execution_count": 8,
   "metadata": {},
   "outputs": [],
   "source": [
    "import os\n",
    "import numpy as np\n",
    "import json\n",
    "from keras.preprocessing import image\n",
    "from keras.models import load_model\n",
    "import tensorflow as tf\n",
    "from flask import Flask,request,render_template\n",
    "from werkzeug.utils import secure_filename\n",
    "from tensorflow.keras.models import Sequential\n",
    "from keras.models import model_from_json\n",
    "from __future__ import division, print_function"
   ]
  },
  {
   "cell_type": "code",
   "execution_count": 6,
   "metadata": {},
   "outputs": [],
   "source": [
    "global graph\n",
    "graph=tf.compat.v1.get_default_graph()\n",
    "app=Flask(__name__)"
   ]
  },
  {
   "cell_type": "code",
   "execution_count": 17,
   "metadata": {},
   "outputs": [],
   "source": [
    "json_path=r\"C:\\Users\\GUITA\\Desktop\\Stuff\\Notes\\Digital Naturalist\\Implementation\\final_model.json\"\n",
    "json_file=open(json_path,'r')\n",
    "loaded_model_json=json_file.read()\n",
    "json_file.close()"
   ]
  },
  {
   "cell_type": "code",
   "execution_count": 18,
   "metadata": {},
   "outputs": [
    {
     "name": "stdout",
     "output_type": "stream",
     "text": [
      "Model loaded.Check http://127.0.0.1:5000/\n"
     ]
    }
   ],
   "source": [
    "h5_path=r\"C:\\Users\\GUITA\\Desktop\\Stuff\\Notes\\Digital Naturalist\\Implementation\\final_model.h5\"\n",
    "loaded_model=model_from_json(loaded_model_json)\n",
    "loaded_model.load_weights(h5_path)\n",
    "print('Model loaded.Check http://127.0.0.1:5000/')"
   ]
  },
  {
   "cell_type": "code",
   "execution_count": null,
   "metadata": {},
   "outputs": [],
   "source": [
    "@app.route('/',methods=['GET'])\n",
    "def index():\n",
    "    return render_template('digital.html')\n",
    "@app.route('/predict',methods=['GET','POST'])"
   ]
  },
  {
   "cell_type": "code",
   "execution_count": null,
   "metadata": {},
   "outputs": [],
   "source": [
    "def upload():\n",
    "    if request.method=='POST':\n",
    "        f=request.files['image']\n",
    "        basepath=os.path.dirname(__file__)\n",
    "        file_path=os.path.join(basepath,'uploads',secure_filename(f.filename))\n",
    "        f.save(file_path)\n",
    "        img=image.load_img(file_path,target_size=(256,256))\n",
    "        x=image.img_to_array(img)\n",
    "        x=np.expand_dims(x,axis=0)\n",
    "        with grpah.as_default():\n",
    "            preds=loaded_model.predict_classes(x)\n",
    "            found=['TEXT1,TEXT2,TEXT3,TEXT4,TEXT5,TEXT6']\n",
    "            text=found[preds[0]]\n",
    "            return text"
   ]
  },
  {
   "cell_type": "code",
   "execution_count": null,
   "metadata": {},
   "outputs": [],
   "source": [
    "if __name__=='__main__':\n",
    "    app.run(threaded=False)"
   ]
  }
 ],
 "metadata": {
  "kernelspec": {
   "display_name": "Python 3",
   "language": "python",
   "name": "python3"
  },
  "language_info": {
   "codemirror_mode": {
    "name": "ipython",
    "version": 3
   },
   "file_extension": ".py",
   "mimetype": "text/x-python",
   "name": "python",
   "nbconvert_exporter": "python",
   "pygments_lexer": "ipython3",
   "version": "3.8.5"
  }
 },
 "nbformat": 4,
 "nbformat_minor": 4
}
