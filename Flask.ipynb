{
 "cells": [
  {
   "cell_type": "code",
   "execution_count": 2,
   "metadata": {},
   "outputs": [],
   "source": [
    "import os\n",
    "import numpy as np\n",
    "import json\n",
    "from keras.preprocessing import image\n",
    "from keras.models import load_model\n",
    "import tensorflow as tf\n",
    "from flask import Flask,request,render_template\n",
    "from werkzeug.utils import secure_filename\n",
    "from tensorflow.keras.models import Sequential\n",
    "from keras.models import model_from_json\n",
    "from __future__ import division, print_function"
   ]
  },
  {
   "cell_type": "code",
   "execution_count": 3,
   "metadata": {},
   "outputs": [
    {
     "name": "stderr",
     "output_type": "stream",
     "text": [
      "'FLASK_ENV' is deprecated and will not be used in Flask 2.3. Use 'FLASK_DEBUG' instead.\n"
     ]
    }
   ],
   "source": [
    "global graph\n",
    "graph=tf.compat.v1.get_default_graph()\n",
    "app=Flask(__name__)"
   ]
  },
  {
   "cell_type": "code",
   "execution_count": 4,
   "metadata": {},
   "outputs": [
    {
     "ename": "FileNotFoundError",
     "evalue": "[Errno 2] No such file or directory: 'C:\\\\Users\\\\GUITA\\\\Desktop\\\\Stuff\\\\Notes\\\\Digital Naturalist\\\\Implementation\\\\final_model.json'",
     "output_type": "error",
     "traceback": [
      "\u001b[0;31m---------------------------------------------------------------------------\u001b[0m",
      "\u001b[0;31mFileNotFoundError\u001b[0m                         Traceback (most recent call last)",
      "Cell \u001b[0;32mIn [4], line 2\u001b[0m\n\u001b[1;32m      1\u001b[0m json_path\u001b[39m=\u001b[39m\u001b[39mr\u001b[39m\u001b[39m\"\u001b[39m\u001b[39mC:\u001b[39m\u001b[39m\\\u001b[39m\u001b[39mUsers\u001b[39m\u001b[39m\\\u001b[39m\u001b[39mGUITA\u001b[39m\u001b[39m\\\u001b[39m\u001b[39mDesktop\u001b[39m\u001b[39m\\\u001b[39m\u001b[39mStuff\u001b[39m\u001b[39m\\\u001b[39m\u001b[39mNotes\u001b[39m\u001b[39m\\\u001b[39m\u001b[39mDigital Naturalist\u001b[39m\u001b[39m\\\u001b[39m\u001b[39mImplementation\u001b[39m\u001b[39m\\\u001b[39m\u001b[39mfinal_model.json\u001b[39m\u001b[39m\"\u001b[39m\n\u001b[0;32m----> 2\u001b[0m json_file\u001b[39m=\u001b[39m\u001b[39mopen\u001b[39;49m(json_path,\u001b[39m'\u001b[39;49m\u001b[39mr\u001b[39;49m\u001b[39m'\u001b[39;49m)\n\u001b[1;32m      3\u001b[0m loaded_model_json\u001b[39m=\u001b[39mjson_file\u001b[39m.\u001b[39mread()\n\u001b[1;32m      4\u001b[0m json_file\u001b[39m.\u001b[39mclose()\n",
      "File \u001b[0;32m~/miniforge3/envs/mlp/lib/python3.8/site-packages/IPython/core/interactiveshell.py:282\u001b[0m, in \u001b[0;36m_modified_open\u001b[0;34m(file, *args, **kwargs)\u001b[0m\n\u001b[1;32m    275\u001b[0m \u001b[39mif\u001b[39;00m file \u001b[39min\u001b[39;00m {\u001b[39m0\u001b[39m, \u001b[39m1\u001b[39m, \u001b[39m2\u001b[39m}:\n\u001b[1;32m    276\u001b[0m     \u001b[39mraise\u001b[39;00m \u001b[39mValueError\u001b[39;00m(\n\u001b[1;32m    277\u001b[0m         \u001b[39mf\u001b[39m\u001b[39m\"\u001b[39m\u001b[39mIPython won\u001b[39m\u001b[39m'\u001b[39m\u001b[39mt let you open fd=\u001b[39m\u001b[39m{\u001b[39;00mfile\u001b[39m}\u001b[39;00m\u001b[39m by default \u001b[39m\u001b[39m\"\u001b[39m\n\u001b[1;32m    278\u001b[0m         \u001b[39m\"\u001b[39m\u001b[39mas it is likely to crash IPython. If you know what you are doing, \u001b[39m\u001b[39m\"\u001b[39m\n\u001b[1;32m    279\u001b[0m         \u001b[39m\"\u001b[39m\u001b[39myou can use builtins\u001b[39m\u001b[39m'\u001b[39m\u001b[39m open.\u001b[39m\u001b[39m\"\u001b[39m\n\u001b[1;32m    280\u001b[0m     )\n\u001b[0;32m--> 282\u001b[0m \u001b[39mreturn\u001b[39;00m io_open(file, \u001b[39m*\u001b[39;49margs, \u001b[39m*\u001b[39;49m\u001b[39m*\u001b[39;49mkwargs)\n",
      "\u001b[0;31mFileNotFoundError\u001b[0m: [Errno 2] No such file or directory: 'C:\\\\Users\\\\GUITA\\\\Desktop\\\\Stuff\\\\Notes\\\\Digital Naturalist\\\\Implementation\\\\final_model.json'"
     ]
    }
   ],
   "source": [
    "json_path=r\"C:\\Users\\GUITA\\Desktop\\Stuff\\Notes\\Digital Naturalist\\Implementation\\final_model.json\"\n",
    "json_file=open(json_path,'r')\n",
    "loaded_model_json=json_file.read()\n",
    "json_file.close()"
   ]
  },
  {
   "cell_type": "code",
   "execution_count": null,
   "metadata": {},
   "outputs": [
    {
     "name": "stdout",
     "output_type": "stream",
     "text": [
      "Model loaded.Check http://127.0.0.1:5000/\n"
     ]
    }
   ],
   "source": [
    "h5_path=r\"C:\\Users\\GUITA\\Desktop\\Stuff\\Notes\\Digital Naturalist\\Implementation\\final_model.h5\"\n",
    "loaded_model=model_from_json(loaded_model_json)\n",
    "loaded_model.load_weights(h5_path)\n",
    "print('Model loaded.Check http://127.0.0.1:5000/')"
   ]
  },
  {
   "cell_type": "code",
   "execution_count": null,
   "metadata": {},
   "outputs": [],
   "source": [
    "@app.route('/',methods=['GET'])\n",
    "def index():\n",
    "    return render_template('digital.html')\n",
    "@app.route('/predict',methods=['GET','POST'])"
   ]
  },
  {
   "cell_type": "code",
   "execution_count": null,
   "metadata": {},
   "outputs": [],
   "source": [
    "def upload():\n",
    "    if request.method=='POST':\n",
    "        f=request.files['image']\n",
    "        basepath=os.path.dirname(__file__)\n",
    "        file_path=os.path.join(basepath,'uploads',secure_filename(f.filename))\n",
    "        f.save(file_path)\n",
    "        img=image.load_img(file_path,target_size=(256,256))\n",
    "        x=image.img_to_array(img)\n",
    "        x=np.expand_dims(x,axis=0)\n",
    "        with grpah.as_default():\n",
    "            preds=loaded_model.predict_classes(x)\n",
    "            found=['TEXT1,TEXT2,TEXT3,TEXT4,TEXT5,TEXT6']\n",
    "            text=found[preds[0]]\n",
    "            return text"
   ]
  },
  {
   "cell_type": "code",
   "execution_count": null,
   "metadata": {},
   "outputs": [],
   "source": [
    "if __name__=='__main__':\n",
    "    app.run(threaded=False)"
   ]
  }
 ],
 "metadata": {
  "kernelspec": {
   "display_name": "Python 3.8.13 ('mlp')",
   "language": "python",
   "name": "python3"
  },
  "language_info": {
   "codemirror_mode": {
    "name": "ipython",
    "version": 3
   },
   "file_extension": ".py",
   "mimetype": "text/x-python",
   "name": "python",
   "nbconvert_exporter": "python",
   "pygments_lexer": "ipython3",
   "version": "3.8.13"
  },
  "vscode": {
   "interpreter": {
    "hash": "0a117d1e66b0c3044d4a836e16642cfb62aa7f66a54252fa5a70e0358f9a219b"
   }
  }
 },
 "nbformat": 4,
 "nbformat_minor": 4
}
